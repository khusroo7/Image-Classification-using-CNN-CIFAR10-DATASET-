{
 "cells": [
  {
   "cell_type": "code",
   "execution_count": 37,
   "id": "3349d7f8-6d97-4888-9933-3651795ac82e",
   "metadata": {},
   "outputs": [],
   "source": [
    "import tensorflow as tf\n",
    "from tensorflow.keras import datasets,layers,models\n",
    "import matplotlib.pyplot as plt\n",
    "import numpy as np"
   ]
  },
  {
   "cell_type": "code",
   "execution_count": 39,
   "id": "710c8a17-c54b-4f8b-8cbd-259699c61a93",
   "metadata": {},
   "outputs": [],
   "source": [
    "(X_train,y_train),(X_test,y_test)=datasets.cifar10.load_data()"
   ]
  },
  {
   "cell_type": "code",
   "execution_count": 41,
   "id": "ab5dcaf0-32d6-4f2e-acbb-db929081cfd7",
   "metadata": {},
   "outputs": [
    {
     "data": {
      "text/plain": [
       "(50000, 32, 32, 3)"
      ]
     },
     "execution_count": 41,
     "metadata": {},
     "output_type": "execute_result"
    }
   ],
   "source": [
    "X_train.shape"
   ]
  },
  {
   "cell_type": "code",
   "execution_count": 43,
   "id": "88d4d5db-a665-490b-9f59-d34050dfc8cf",
   "metadata": {},
   "outputs": [
    {
     "data": {
      "text/plain": [
       "(10000, 32, 32, 3)"
      ]
     },
     "execution_count": 43,
     "metadata": {},
     "output_type": "execute_result"
    }
   ],
   "source": [
    "X_test.shape"
   ]
  },
  {
   "cell_type": "code",
   "execution_count": 45,
   "id": "0012479e-1542-4bc9-b092-2ebd92b02b9e",
   "metadata": {},
   "outputs": [
    {
     "data": {
      "text/plain": [
       "array([[6],\n",
       "       [9],\n",
       "       [9],\n",
       "       [4],\n",
       "       [1]], dtype=uint8)"
      ]
     },
     "execution_count": 45,
     "metadata": {},
     "output_type": "execute_result"
    }
   ],
   "source": [
    "y_train[:5] # it is a two dimensional array"
   ]
  },
  {
   "cell_type": "code",
   "execution_count": 47,
   "id": "e992840a-fda2-49e2-8234-8f5d51e17feb",
   "metadata": {},
   "outputs": [],
   "source": [
    "y_train=y_train.reshape(-1,) # converting the two dimensional array into one dimensional array"
   ]
  },
  {
   "cell_type": "code",
   "execution_count": 49,
   "id": "1c7f4c9e-455d-4720-b2d3-4cb96a697360",
   "metadata": {},
   "outputs": [
    {
     "data": {
      "text/plain": [
       "array([6, 9, 9, 4, 1], dtype=uint8)"
      ]
     },
     "execution_count": 49,
     "metadata": {},
     "output_type": "execute_result"
    }
   ],
   "source": [
    "y_train[:5]"
   ]
  },
  {
   "cell_type": "code",
   "execution_count": 51,
   "id": "941a2aa5-cfa8-4aa9-beec-3de190ac0ff9",
   "metadata": {},
   "outputs": [],
   "source": [
    "classes=[\"airplane\",\"automobile\",\"bird\",\"cat\",\"deer\",\"dog\",\"frog\",\"horse\",\"ship\",\"truck\"]"
   ]
  },
  {
   "cell_type": "code",
   "execution_count": 53,
   "id": "07269357-ba51-49db-a02d-f9a2639ec660",
   "metadata": {},
   "outputs": [
    {
     "data": {
      "text/plain": [
       "<matplotlib.image.AxesImage at 0x22294c01ad0>"
      ]
     },
     "execution_count": 53,
     "metadata": {},
     "output_type": "execute_result"
    },
    {
     "data": {
      "image/png": "[encoded data removed]",
      "text/plain": [
       "<Figure size 640x480 with 1 Axes>"
      ]
     },
     "metadata": {},
     "output_type": "display_data"
    }
   ],
   "source": [
    "plt.imshow(X_train[0])"
   ]
  },
  {
   "cell_type": "code",
   "execution_count": 55,
   "id": "f7ce8443-06bd-442d-9e53-de61b40540c9",
   "metadata": {},
   "outputs": [],
   "source": [
    "# creating a function to print the image of the label according to the index\n",
    "def plot_sample(X,y,index):\n",
    "    plt.figure(figsize=(15,2))\n",
    "    plt.imshow(X[index])\n",
    "    plt.xlabel(classes[y[index]])"
   ]
  },
  {
   "cell_type": "code",
   "execution_count": 57,
   "id": "620749b7-363e-4946-a475-1d068b8dd97f",
   "metadata": {},
   "outputs": [
    {
     "data": {
      "image/png": "[encoded data removed]",
      "text/plain": [
       "<Figure size 1500x200 with 1 Axes>"
      ]
     },
     "metadata": {},
     "output_type": "display_data"
    }
   ],
   "source": [
    "plot_sample(X_train,y_train,0)"
   ]
  },
  {
   "cell_type": "code",
   "execution_count": 59,
   "id": "53f5979a-7d26-48f4-aea8-afd937f4ce4f",
   "metadata": {},
   "outputs": [],
   "source": [
    "# Scaling the values to a range of 0 to 1\n",
    "X_train=X_train/255\n",
    "X_test=X_test/255"
   ]
  },
  {
   "cell_type": "code",
   "execution_count": 67,
   "id": "6296a249-cdcb-491c-b984-b595c80756cc",
   "metadata": {},
   "outputs": [
    {
     "name": "stdout",
     "output_type": "stream",
     "text": [
      "Epoch 1/5\n",
      "1563/1563 [==============================] - 335s 212ms/step - loss: 1.8939 - accuracy: 0.3258\n",
      "Epoch 2/5\n",
      "1563/1563 [==============================] - 329s 210ms/step - loss: 1.6820 - accuracy: 0.3932\n",
      "Epoch 3/5\n",
      "1563/1563 [==============================] - 340s 217ms/step - loss: 1.6001 - accuracy: 0.4265\n",
      "Epoch 4/5\n",
      "1563/1563 [==============================] - 683s 437ms/step - loss: 1.5414 - accuracy: 0.4483\n",
      "Epoch 5/5\n",
      "1563/1563 [==============================] - 227s 145ms/step - loss: 1.5023 - accuracy: 0.4640\n"
     ]
    },
    {
     "data": {
      "text/plain": [
       "<keras.callbacks.History at 0x22296be05d0>"
      ]
     },
     "execution_count": 67,
     "metadata": {},
     "output_type": "execute_result"
    }
   ],
   "source": [
    "# We first create a ANN so that as to compare Y CNN is better in terms of image classification by comparing their Accuracy\n",
    "ann = models.Sequential([\n",
    "    layers.Flatten(input_shape=(32,32,3)),\n",
    "    layers.Dense(3000, activation='relu'),\n",
    "    layers.Dense(1000, activation='relu'),\n",
    "    layers.Dense(10, activation='sigmoid')\n",
    "])\n",
    "\n",
    "ann.compile(optimizer='adam',\n",
    "            loss='sparse_categorical_crossentropy',\n",
    "            metrics=['accuracy'])\n",
    "\n",
    "ann.fit(X_train,y_train,epochs=5)\n",
    "            "
   ]
  },
  {
   "cell_type": "code",
   "execution_count": 69,
   "id": "c2737c65-9f98-4339-9287-c6f4844822dc",
   "metadata": {},
   "outputs": [
    {
     "name": "stdout",
     "output_type": "stream",
     "text": [
      "313/313 [==============================] - 8s 20ms/step - loss: 1.5093 - accuracy: 0.4655\n"
     ]
    },
    {
     "data": {
      "text/plain": [
       "[1.509272575378418, 0.46549999713897705]"
      ]
     },
     "execution_count": 69,
     "metadata": {},
     "output_type": "execute_result"
    }
   ],
   "source": [
    "ann.evaluate(X_test,y_test)"
   ]
  },
  {
   "cell_type": "code",
   "execution_count": 73,
   "id": "a7865455-71e2-4507-9022-13867ca3f4ed",
   "metadata": {},
   "outputs": [
    {
     "name": "stdout",
     "output_type": "stream",
     "text": [
      "313/313 [==============================] - 6s 19ms/step\n",
      "classification report;\n",
      "               precision    recall  f1-score   support\n",
      "\n",
      "           0       0.57      0.51      0.54      1000\n",
      "           1       0.54      0.70      0.61      1000\n",
      "           2       0.34      0.33      0.33      1000\n",
      "           3       0.32      0.41      0.36      1000\n",
      "           4       0.49      0.30      0.37      1000\n",
      "           5       0.42      0.32      0.37      1000\n",
      "           6       0.38      0.70      0.49      1000\n",
      "           7       0.63      0.42      0.50      1000\n",
      "           8       0.58      0.62      0.60      1000\n",
      "           9       0.60      0.35      0.44      1000\n",
      "\n",
      "    accuracy                           0.47     10000\n",
      "   macro avg       0.49      0.47      0.46     10000\n",
      "weighted avg       0.49      0.47      0.46     10000\n",
      "\n"
     ]
    }
   ],
   "source": [
    "from sklearn.metrics import confusion_matrix, classification_report\n",
    "import numpy as np\n",
    "y_pred=ann.predict(X_test)\n",
    "y_pred_classes=[np.argmax(element) for element in y_pred]\n",
    "print(\"classification report;\\n\", classification_report(y_test,y_pred_classes))"
   ]
  },
  {
   "cell_type": "code",
   "execution_count": 77,
   "id": "f5e24006-7ac1-488f-bc48-f16c52533705",
   "metadata": {},
   "outputs": [
    {
     "name": "stdout",
     "output_type": "stream",
     "text": [
      "Epoch 1/10\n",
      "1563/1563 [==============================] - 58s 23ms/step - loss: 1.4869 - accuracy: 0.4654\n",
      "Epoch 2/10\n",
      "1563/1563 [==============================] - 34s 22ms/step - loss: 1.1538 - accuracy: 0.5949\n",
      "Epoch 3/10\n",
      "1563/1563 [==============================] - 36s 23ms/step - loss: 1.0261 - accuracy: 0.6389\n",
      "Epoch 4/10\n",
      "1563/1563 [==============================] - 38s 24ms/step - loss: 0.9441 - accuracy: 0.6707\n",
      "Epoch 5/10\n",
      "1563/1563 [==============================] - 38s 24ms/step - loss: 0.8832 - accuracy: 0.6934\n",
      "Epoch 6/10\n",
      "1563/1563 [==============================] - 41s 26ms/step - loss: 0.8352 - accuracy: 0.7094\n",
      "Epoch 7/10\n",
      "1563/1563 [==============================] - 38s 24ms/step - loss: 0.7939 - accuracy: 0.7237\n",
      "Epoch 8/10\n",
      "1563/1563 [==============================] - 35s 22ms/step - loss: 0.7572 - accuracy: 0.7356\n",
      "Epoch 9/10\n",
      "1563/1563 [==============================] - 34s 22ms/step - loss: 0.7285 - accuracy: 0.7452\n",
      "Epoch 10/10\n",
      "1563/1563 [==============================] - 33s 21ms/step - loss: 0.6991 - accuracy: 0.7546\n"
     ]
    },
    {
     "data": {
      "text/plain": [
       "<keras.callbacks.History at 0x2229adf1e50>"
      ]
     },
     "execution_count": 77,
     "metadata": {},
     "output_type": "execute_result"
    }
   ],
   "source": [
    "# Now we build our CNN model and check it with ANN in terms of accuracy\n",
    "cnn=models.Sequential([\n",
    "    layers.Conv2D(filters=32, kernel_size=(3,3), activation='relu', input_shape=(32,32,3)),\n",
    "    layers.MaxPooling2D((2,2)),\n",
    "    layers.Conv2D(filters=32, kernel_size=(3,3), activation='relu'),\n",
    "    layers.MaxPooling2D((2,2)),\n",
    "\n",
    "    layers.Flatten(),\n",
    "    layers.Dense(64,activation='relu'),\n",
    "    layers.Dense(10,activation='softmax')\n",
    "])\n",
    "\n",
    "cnn.compile(optimizer='adam',\n",
    "            loss='sparse_categorical_crossentropy',\n",
    "            metrics=['accuracy'])\n",
    "\n",
    "cnn.fit(X_train,y_train,epochs=10)    \n",
    "    "
   ]
  },
  {
   "cell_type": "code",
   "execution_count": 79,
   "id": "af36113b-611a-4a61-b024-7005d5fae301",
   "metadata": {},
   "outputs": [
    {
     "name": "stdout",
     "output_type": "stream",
     "text": [
      "313/313 [==============================] - 3s 8ms/step - loss: 0.9607 - accuracy: 0.6814\n"
     ]
    },
    {
     "data": {
      "text/plain": [
       "[0.9606615304946899, 0.6814000010490417]"
      ]
     },
     "execution_count": 79,
     "metadata": {},
     "output_type": "execute_result"
    }
   ],
   "source": [
    "cnn.evaluate(X_test,y_test)"
   ]
  },
  {
   "cell_type": "code",
   "execution_count": null,
   "id": "179027d0-2440-4370-bbd1-64305aeccb1c",
   "metadata": {},
   "outputs": [],
   "source": [
    "# Accuracy of ANN= 0.46 AND Accuracy of CNN= 0.68"
   ]
  },
  {
   "cell_type": "code",
   "execution_count": 81,
   "id": "aa477c5a-b674-4476-b46a-10c3732d0353",
   "metadata": {},
   "outputs": [],
   "source": [
    "y_test=y_test.reshape(-1,)"
   ]
  },
  {
   "cell_type": "code",
   "execution_count": 83,
   "id": "7665d6ca-bbe6-4767-9942-2bc0b9f42345",
   "metadata": {},
   "outputs": [
    {
     "data": {
      "text/plain": [
       "array([3, 8, 8, 0, 6], dtype=uint8)"
      ]
     },
     "execution_count": 83,
     "metadata": {},
     "output_type": "execute_result"
    }
   ],
   "source": [
    "y_test[:5]"
   ]
  },
  {
   "cell_type": "code",
   "execution_count": 86,
   "id": "9731fac4-ebde-4aa9-8dc2-6ac86c62abe2",
   "metadata": {},
   "outputs": [
    {
     "data": {
      "image/png": "[encoded data removed]",
      "text/plain": [
       "<Figure size 1500x200 with 1 Axes>"
      ]
     },
     "metadata": {},
     "output_type": "display_data"
    }
   ],
   "source": [
    "plot_sample(X_train, y_train,1)"
   ]
  },
  {
   "cell_type": "code",
   "execution_count": 90,
   "id": "ee7eea31-60fb-4bd0-be7f-44f781ddaed8",
   "metadata": {},
   "outputs": [
    {
     "name": "stdout",
     "output_type": "stream",
     "text": [
      "313/313 [==============================] - 2s 6ms/step\n"
     ]
    },
    {
     "data": {
      "text/plain": [
       "array([[2.34221527e-03, 6.98528835e-04, 1.17013534e-03, 9.69384134e-01,\n",
       "        8.15712556e-05, 1.93146877e-02, 3.27012572e-03, 3.58109362e-04,\n",
       "        3.09904688e-03, 2.81507644e-04],\n",
       "       [1.93410702e-02, 4.83743101e-02, 3.71009737e-05, 8.23350729e-06,\n",
       "        4.85933533e-08, 1.08839902e-06, 6.61812116e-09, 3.94245006e-07,\n",
       "        9.28833246e-01, 3.40443105e-03],\n",
       "       [8.71039033e-02, 4.58915085e-01, 6.76932046e-04, 2.53294152e-03,\n",
       "        5.85597591e-05, 7.21017306e-04, 2.02334536e-06, 3.26759677e-04,\n",
       "        3.43859553e-01, 1.05803251e-01],\n",
       "       [9.43831980e-01, 6.29447540e-03, 2.97473487e-03, 1.17530566e-04,\n",
       "        1.94578301e-04, 4.37473955e-06, 5.73872626e-07, 1.16426818e-04,\n",
       "        4.64489721e-02, 1.64576668e-05],\n",
       "       [1.70510193e-05, 5.47891468e-05, 2.87632011e-02, 4.33422811e-02,\n",
       "        4.54046488e-01, 6.87543210e-03, 4.66439158e-01, 7.04571430e-05,\n",
       "        3.54502321e-04, 3.66705935e-05]], dtype=float32)"
      ]
     },
     "execution_count": 90,
     "metadata": {},
     "output_type": "execute_result"
    }
   ],
   "source": [
    "y_pred=cnn.predict(X_test)\n",
    "y_pred[:5]"
   ]
  },
  {
   "cell_type": "code",
   "execution_count": 92,
   "id": "86a6b7ea-0419-45ec-a672-6d18491b66ed",
   "metadata": {},
   "outputs": [
    {
     "data": {
      "text/plain": [
       "[3, 8, 1, 0, 6]"
      ]
     },
     "execution_count": 92,
     "metadata": {},
     "output_type": "execute_result"
    }
   ],
   "source": [
    "y_classes=[np.argmax(element) for element in y_pred]\n",
    "y_classes[:5] # predicted values"
   ]
  },
  {
   "cell_type": "code",
   "execution_count": 94,
   "id": "d347f8eb-42b0-423e-830a-3b7d7f224ea7",
   "metadata": {},
   "outputs": [
    {
     "data": {
      "text/plain": [
       "array([3, 8, 8, 0, 6], dtype=uint8)"
      ]
     },
     "execution_count": 94,
     "metadata": {},
     "output_type": "execute_result"
    }
   ],
   "source": [
    "y_test[:5] # actual values"
   ]
  },
  {
   "cell_type": "code",
   "execution_count": 96,
   "id": "22a45abd-beb2-4d17-b939-1a79ccee6d89",
   "metadata": {},
   "outputs": [
    {
     "data": {
      "image/png": "[encoded data removed]",
      "text/plain": [
       "<Figure size 1500x200 with 1 Axes>"
      ]
     },
     "metadata": {},
     "output_type": "display_data"
    }
   ],
   "source": [
    "plot_sample(X_test,y_test,1)"
   ]
  },
  {
   "cell_type": "code",
   "execution_count": 98,
   "id": "af1f78c0-4145-48fc-8613-544984eac458",
   "metadata": {},
   "outputs": [
    {
     "data": {
      "text/plain": [
       "'ship'"
      ]
     },
     "execution_count": 98,
     "metadata": {},
     "output_type": "execute_result"
    }
   ],
   "source": [
    "classes[y_classes[1]]"
   ]
  },
  {
   "cell_type": "code",
   "execution_count": 102,
   "id": "83366014-5b33-4e9d-8d91-1824283ce766",
   "metadata": {},
   "outputs": [
    {
     "name": "stdout",
     "output_type": "stream",
     "text": [
      "classification report;\n",
      "               precision    recall  f1-score   support\n",
      "\n",
      "           0       0.77      0.65      0.71      1000\n",
      "           1       0.84      0.77      0.80      1000\n",
      "           2       0.63      0.55      0.59      1000\n",
      "           3       0.48      0.56      0.51      1000\n",
      "           4       0.63      0.63      0.63      1000\n",
      "           5       0.56      0.64      0.59      1000\n",
      "           6       0.88      0.62      0.73      1000\n",
      "           7       0.79      0.68      0.73      1000\n",
      "           8       0.68      0.89      0.77      1000\n",
      "           9       0.71      0.84      0.77      1000\n",
      "\n",
      "    accuracy                           0.68     10000\n",
      "   macro avg       0.70      0.68      0.68     10000\n",
      "weighted avg       0.70      0.68      0.68     10000\n",
      "\n"
     ]
    }
   ],
   "source": [
    "print(\"classification report;\\n\", classification_report(y_test,y_classes))"
   ]
  }
 ],
 "metadata": {
  "kernelspec": {
   "display_name": "Python 3 (ipykernel)",
   "language": "python",
   "name": "python3"
  },
  "language_info": {
   "codemirror_mode": {
    "name": "ipython",
    "version": 3
   },
   "file_extension": ".py",
   "mimetype": "text/x-python",
   "name": "python",
   "nbconvert_exporter": "python",
   "pygments_lexer": "ipython3",
   "version": "3.11.7"
  }
 },
 "nbformat": 4,
 "nbformat_minor": 5
}
